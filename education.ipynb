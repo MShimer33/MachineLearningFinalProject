{
 "cells": [
  {
   "cell_type": "markdown",
   "metadata": {},
   "source": [
    "Final Project: Predicting Student Performance\n",
    "===\n",
    "Authors: John Sabo and Michael Shimer\n",
    "\n",
    "Goal: Make a machine learning model that can predict how well a student will do in school."
   ]
  },
  {
   "cell_type": "markdown",
   "metadata": {},
   "source": [
    "Frame the Problem and Look at the Big Picture \n",
    "===\n",
    "1. Define the objective in business terms. \n",
    "    * The school is looking for a system that will predict how well a student will do to see if they can give them help earlier in the school year as opposed to later.\n",
    "2. How will your solution be used? \n",
    "    * The model is going to be used to predict how well a student is doing or how well a student will do on their final grades.\n",
    "    * Our solution will be used to find students who need additional help sooner rather than later.\n",
    "3. What are the current solutions/workarounds (if any)? \n",
    "    * Predicting student performance is not a new idea, however, current methods used involve paper and pencil analysis.\n",
    "4. How should you frame this problem (supervised/unsupervised, online/offline, ...)? \n",
    "    * Supervised - It will be a supervised learning model because we have a target feature or label.\n",
    "        - The label is the students' final grade.\n",
    "    * Regression - It will be a regression problem because grades are measured on a linear scale.\n",
    "        - i.e. grades are '0 to 100' or 'F to A'\n",
    "    * Offline - It will be offline because it will not recieve new data on a daily basis.\n",
    "5. How should performance be measured? Is the performance measure aligned with the business objective? \n",
    "    * The root mean squared error will denote how close the model is to predicting the actual grade.\n",
    "6. What would be the minimum performance needed to reach the business objective? \n",
    "    * To reach the business objective we will have a minimum performance requirement for the model of 10% error. In other words, the predicted final grade mnust always be within 10 points of the acutal grade.\n",
    "7. What are comparable problems? Can you reuse experience or tools? \n",
    "    * Predicting an athlete performance based on factors in and off the field is a similar problem. There models that exist to predict performance of both students and athletes. Some models may exist that use some athletic data to predict the students performance. There are no tools or experience we can use to specifically help solve this problem, however, as our experience grows in Machine learning, we feel more ready for the task.\n",
    "8. Is human expertise available? \n",
    "    * This project has no human expertise available.\n",
    "9. How would you solve the problem manually? \n",
    "    * To solve this manually, all the features would be analyzed and given a weight based on how important each feature is determined to be. An alogrithm would be written to consider all the weights of the attributes and compute a numerical prediction for the final grade of the student.\n",
    "10.  List the assumptions you (or others) have made so far. Verify assumptions if possible. \n",
    "    * So assumptions are being made against our data."
   ]
  },
  {
   "cell_type": "code",
   "execution_count": null,
   "metadata": {},
   "outputs": [],
   "source": []
  }
 ],
 "metadata": {
  "language_info": {
   "name": "python"
  },
  "orig_nbformat": 4
 },
 "nbformat": 4,
 "nbformat_minor": 2
}
