{
 "cells": [
  {
   "cell_type": "markdown",
   "metadata": {},
   "source": [
    "Final Project: Predicting Student Performance\n",
    "===\n",
    "Authors: John Sabo and Michael Shimer\n",
    "\n",
    "Goal: Make a machine learning model that can predict how well a student will do in school."
   ]
  },
  {
   "cell_type": "markdown",
   "metadata": {},
   "source": [
    "Frame the Problem and Look at the Big Picture \n",
    "===\n",
    "1. Define the objective in business terms. \n",
    "2. How will your solution be used? \n",
    "3. What are the current solutions/workarounds (if any)? \n",
    "4. How should you frame this problem (supervised/unsupervised, online/offline, ...)? \n",
    "5. How should performance be measured? Is the performance measure aligned with the business objective? \n",
    "6. What would be the minimum performance needed to reach the business objective? \n",
    "7. What are comparable problems? Can you reuse experience or tools? \n",
    "8. Is human expertise available? \n",
    "9. How would you solve the problem manually? \n",
    "10.  List the assumptions you (or others) have made so far. Verify assumptions if possible. "
   ]
  },
  {
   "cell_type": "code",
   "execution_count": null,
   "metadata": {},
   "outputs": [],
   "source": []
  }
 ],
 "metadata": {
  "language_info": {
   "name": "python"
  },
  "orig_nbformat": 4
 },
 "nbformat": 4,
 "nbformat_minor": 2
}
